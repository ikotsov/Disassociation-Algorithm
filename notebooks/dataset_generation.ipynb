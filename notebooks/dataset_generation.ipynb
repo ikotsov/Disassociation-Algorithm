{
 "cells": [
  {
   "cell_type": "markdown",
   "id": "cfc6bdf7-1dcc-4c66-9f7f-cdfb232fe29d",
   "metadata": {},
   "source": [
    "# Constants"
   ]
  },
  {
   "cell_type": "code",
   "execution_count": 1,
   "id": "fe8106b9-d55f-4097-893b-3ad60a8df932",
   "metadata": {},
   "outputs": [],
   "source": [
    "DIAGNOSIS_CODES_PATH = '../data/diagnosis_codes.csv'\n",
    "DISTINCT_CODES = 631\n",
    "NUM_RECORDS = 58302\n",
    "MAX_CODES = 43\n",
    "TARGET_MEAN = 5.11"
   ]
  },
  {
   "cell_type": "markdown",
   "id": "5493cc9b-5528-41f8-b1f4-5e6000d1a1a1",
   "metadata": {},
   "source": [
    "# Imports"
   ]
  },
  {
   "cell_type": "code",
   "execution_count": 2,
   "id": "3e344cc3-2ed1-4681-bee4-93f45e9ef3d0",
   "metadata": {},
   "outputs": [],
   "source": [
    "import pandas as pd\n",
    "import numpy as np\n",
    "import random"
   ]
  },
  {
   "cell_type": "markdown",
   "id": "3141bfe2-e960-4fab-9ec6-582a02cc5bc7",
   "metadata": {},
   "source": [
    "# Exploration"
   ]
  },
  {
   "cell_type": "markdown",
   "id": "a55619f7-c600-421a-a11e-88d7d8851085",
   "metadata": {},
   "source": [
    "We begin by inspecting the dataset to ensure it has been loaded correctly. Specifically, we confirm the presence of diagnosis codes and verify that they are stored as strings. This step is important to prepare the data for further processing and sampling."
   ]
  },
  {
   "cell_type": "code",
   "execution_count": 3,
   "id": "46757cf5-e414-40b3-a2b8-5201815728bf",
   "metadata": {},
   "outputs": [
    {
     "data": {
      "text/plain": [
       "(15361, 3)"
      ]
     },
     "execution_count": 3,
     "metadata": {},
     "output_type": "execute_result"
    }
   ],
   "source": [
    "df = pd.read_csv(DIAGNOSIS_CODES_PATH)\n",
    "df.shape"
   ]
  },
  {
   "cell_type": "code",
   "execution_count": 4,
   "id": "4b4b6ccf-202d-4392-b5f2-14f9ad95e370",
   "metadata": {},
   "outputs": [
    {
     "data": {
      "text/html": [
       "<div>\n",
       "<style scoped>\n",
       "    .dataframe tbody tr th:only-of-type {\n",
       "        vertical-align: middle;\n",
       "    }\n",
       "\n",
       "    .dataframe tbody tr th {\n",
       "        vertical-align: top;\n",
       "    }\n",
       "\n",
       "    .dataframe thead th {\n",
       "        text-align: right;\n",
       "    }\n",
       "</style>\n",
       "<table border=\"1\" class=\"dataframe\">\n",
       "  <thead>\n",
       "    <tr style=\"text-align: right;\">\n",
       "      <th></th>\n",
       "      <th>ID</th>\n",
       "      <th>Diagnostic Code</th>\n",
       "      <th>Diagnosis Description</th>\n",
       "    </tr>\n",
       "  </thead>\n",
       "  <tbody>\n",
       "    <tr>\n",
       "      <th>0</th>\n",
       "      <td>1</td>\n",
       "      <td>001</td>\n",
       "      <td>Cholera</td>\n",
       "    </tr>\n",
       "    <tr>\n",
       "      <th>1</th>\n",
       "      <td>2</td>\n",
       "      <td>0010</td>\n",
       "      <td>Cholera D/T Vib Cholerae</td>\n",
       "    </tr>\n",
       "    <tr>\n",
       "      <th>2</th>\n",
       "      <td>3</td>\n",
       "      <td>0011</td>\n",
       "      <td>Cholera D/T Vib El Tor</td>\n",
       "    </tr>\n",
       "    <tr>\n",
       "      <th>3</th>\n",
       "      <td>4</td>\n",
       "      <td>0019</td>\n",
       "      <td>Cholera Nos</td>\n",
       "    </tr>\n",
       "    <tr>\n",
       "      <th>4</th>\n",
       "      <td>5</td>\n",
       "      <td>002</td>\n",
       "      <td>Typhoid/Paratyphoid Fev</td>\n",
       "    </tr>\n",
       "  </tbody>\n",
       "</table>\n",
       "</div>"
      ],
      "text/plain": [
       "   ID Diagnostic Code     Diagnosis Description\n",
       "0   1             001                   Cholera\n",
       "1   2            0010  Cholera D/T Vib Cholerae\n",
       "2   3            0011    Cholera D/T Vib El Tor\n",
       "3   4            0019               Cholera Nos\n",
       "4   5             002   Typhoid/Paratyphoid Fev"
      ]
     },
     "execution_count": 4,
     "metadata": {},
     "output_type": "execute_result"
    }
   ],
   "source": [
    "df.head()"
   ]
  },
  {
   "cell_type": "code",
   "execution_count": 5,
   "id": "cade08dc-3a21-43b1-83cb-87b0db3266c6",
   "metadata": {},
   "outputs": [
    {
     "name": "stdout",
     "output_type": "stream",
     "text": [
      "<class 'pandas.core.frame.DataFrame'>\n",
      "RangeIndex: 15361 entries, 0 to 15360\n",
      "Data columns (total 3 columns):\n",
      " #   Column                 Non-Null Count  Dtype \n",
      "---  ------                 --------------  ----- \n",
      " 0   ID                     15361 non-null  int64 \n",
      " 1   Diagnostic Code        15361 non-null  object\n",
      " 2   Diagnosis Description  15361 non-null  object\n",
      "dtypes: int64(1), object(2)\n",
      "memory usage: 360.1+ KB\n"
     ]
    }
   ],
   "source": [
    "df.info()"
   ]
  },
  {
   "cell_type": "markdown",
   "id": "3ad3e187-e7d2-452e-b636-a46032015e48",
   "metadata": {},
   "source": [
    "# Transformation"
   ]
  },
  {
   "cell_type": "markdown",
   "id": "62bc9be6-05ea-4784-b738-e7d98c2d4af4",
   "metadata": {},
   "source": [
    "We sample 631 unique diagnosis codes from the dataset and normalize them into standard ICD-9 format (`NNN.NN`) by inserting a decimal point after the third digit when needed. This formatting is essential for consistency, especially when comparing codes or generating synthetic data later on."
   ]
  },
  {
   "cell_type": "code",
   "execution_count": 6,
   "id": "2f28163a-6d7e-4a38-aece-c08a5997c62c",
   "metadata": {},
   "outputs": [
    {
     "name": "stdout",
     "output_type": "stream",
     "text": [
      "Available unique codes: 15361\n",
      "Sampled unique codes: 631\n"
     ]
    }
   ],
   "source": [
    "# Ensure 'Diagnostic Code' is treated as a string\n",
    "df[\"Diagnostic Code\"] = df[\"Diagnostic Code\"].astype(str)\n",
    "\n",
    "# Drop duplicate codes\n",
    "unique_codes = df[\"Diagnostic Code\"].drop_duplicates()\n",
    "\n",
    "# Sanity check\n",
    "print(f\"Available unique codes: {len(unique_codes)}\")\n",
    "if len(unique_codes) < DISTINCT_CODES:\n",
    "    raise ValueError(f\"Not enough unique codes to sample {DISTINCT_CODES}.\")\n",
    "\n",
    "# Randomly sample the desired number of distinct diagnosis codes\n",
    "sampled_codes = unique_codes.sample(n=DISTINCT_CODES, random_state=42).sort_values()\n",
    "\n",
    "print(f\"Sampled unique codes: {len(sampled_codes)}\")"
   ]
  },
  {
   "cell_type": "code",
   "execution_count": 7,
   "id": "e2ebcd99-5f3f-4236-8844-ce704805d0f9",
   "metadata": {},
   "outputs": [],
   "source": [
    "def normalize_icd9(code: str) -> str:\n",
    "    \"\"\"\n",
    "    Normalize ICD-9 codes by inserting a dot after the third digit if needed.\n",
    "    Example: '0010' → '001.0', '0088' → '008.8'\n",
    "    \"\"\"\n",
    "    code = code.zfill(3)  # pad with zeros if needed\n",
    "    return code if len(code) <= 3 else f\"{code[:3]}.{code[3:]}\""
   ]
  },
  {
   "cell_type": "code",
   "execution_count": 8,
   "id": "872c3d83-3424-4be9-a9d5-b4ade7084917",
   "metadata": {},
   "outputs": [
    {
     "name": "stdout",
     "output_type": "stream",
     "text": [
      "002.0\n"
     ]
    }
   ],
   "source": [
    "print(normalize_icd9(\"0020\"))"
   ]
  },
  {
   "cell_type": "code",
   "execution_count": 9,
   "id": "76985ccc-e589-47a9-9b1b-aee5177f7040",
   "metadata": {},
   "outputs": [],
   "source": [
    "sampled_codes_normalized = sampled_codes.apply(normalize_icd9)"
   ]
  },
  {
   "cell_type": "code",
   "execution_count": 10,
   "id": "058a38cd-441d-464d-b0f9-fdadab1f580f",
   "metadata": {},
   "outputs": [
    {
     "data": {
      "text/plain": [
       "47      006.8\n",
       "88      008.8\n",
       "99     010.03\n",
       "101    010.05\n",
       "102    010.06\n",
       "Name: Diagnostic Code, dtype: object"
      ]
     },
     "execution_count": 10,
     "metadata": {},
     "output_type": "execute_result"
    }
   ],
   "source": [
    "sampled_codes_normalized.head()"
   ]
  },
  {
   "cell_type": "code",
   "execution_count": 11,
   "id": "100f27c3-bef9-4a64-89b5-36eeba7b6cd4",
   "metadata": {},
   "outputs": [],
   "source": [
    "# Save final codes for future use\n",
    "sampled_codes_normalized.to_csv(\"../data/diagnosis_codes_final.csv\", index=False)"
   ]
  },
  {
   "cell_type": "markdown",
   "id": "504c28ad-feb3-456b-9dd8-aa08efcee55f",
   "metadata": {},
   "source": [
    "To ensure that our normalization process is accurate, we manually verified several sampled and formatted ICD-9 codes using the official reference ranges available at: [AAPC ICD-9 Code Range](https://www.aapc.com/codes/icd9-codes-range/)."
   ]
  },
  {
   "cell_type": "markdown",
   "id": "8acb0632-1691-4df4-9b1d-a56cef5e0a63",
   "metadata": {},
   "source": [
    "# Dataset Generation"
   ]
  },
  {
   "cell_type": "code",
   "execution_count": 17,
   "id": "0cda9f3f-57b8-4e53-830b-47674e8e6837",
   "metadata": {},
   "outputs": [
    {
     "data": {
      "text/html": [
       "<div>\n",
       "<style scoped>\n",
       "    .dataframe tbody tr th:only-of-type {\n",
       "        vertical-align: middle;\n",
       "    }\n",
       "\n",
       "    .dataframe tbody tr th {\n",
       "        vertical-align: top;\n",
       "    }\n",
       "\n",
       "    .dataframe thead th {\n",
       "        text-align: right;\n",
       "    }\n",
       "</style>\n",
       "<table border=\"1\" class=\"dataframe\">\n",
       "  <thead>\n",
       "    <tr style=\"text-align: right;\">\n",
       "      <th></th>\n",
       "      <th>Diagnosis Codes</th>\n",
       "    </tr>\n",
       "  </thead>\n",
       "  <tbody>\n",
       "    <tr>\n",
       "      <th>0</th>\n",
       "      <td>378.6,385.02,094.84,V45.69,952.01,782.4,726.2,...</td>\n",
       "    </tr>\n",
       "    <tr>\n",
       "      <th>1</th>\n",
       "      <td>094.84,250.50,312.1,361.31,952.01,885.0,600</td>\n",
       "    </tr>\n",
       "    <tr>\n",
       "      <th>2</th>\n",
       "      <td>790.6,131.0,805.8,298.0,011.24,491.8,637.3,655.8</td>\n",
       "    </tr>\n",
       "    <tr>\n",
       "      <th>3</th>\n",
       "      <td>759.0,801.02</td>\n",
       "    </tr>\n",
       "    <tr>\n",
       "      <th>4</th>\n",
       "      <td>838,357.5,V83.01,839.3,E83.20,270.1</td>\n",
       "    </tr>\n",
       "  </tbody>\n",
       "</table>\n",
       "</div>"
      ],
      "text/plain": [
       "                                     Diagnosis Codes\n",
       "0  378.6,385.02,094.84,V45.69,952.01,782.4,726.2,...\n",
       "1        094.84,250.50,312.1,361.31,952.01,885.0,600\n",
       "2   790.6,131.0,805.8,298.0,011.24,491.8,637.3,655.8\n",
       "3                                       759.0,801.02\n",
       "4                838,357.5,V83.01,839.3,E83.20,270.1"
      ]
     },
     "execution_count": 17,
     "metadata": {},
     "output_type": "execute_result"
    }
   ],
   "source": [
    "# Generate number of codes per record\n",
    "rng = np.random.default_rng(42)\n",
    "code_counts = rng.poisson(lam=TARGET_MEAN, size=NUM_RECORDS)\n",
    "code_counts = np.clip(code_counts, 1, MAX_CODES)\n",
    "\n",
    "diagnosis_codes = sampled_codes_normalized.tolist()\n",
    "\n",
    "# Create synthetic records using NumPy choice\n",
    "synthetic_records = []\n",
    "for count in code_counts:\n",
    "    record = rng.choice(diagnosis_codes, size=count, replace=False).tolist()\n",
    "    synthetic_records.append(record)\n",
    "\n",
    "# Keeps each record as a comma-separated string\n",
    "rows_as_strings = [\",\".join(record) for record in synthetic_records]\n",
    "\n",
    "# Create a 1-column DataFrame just for previewing\n",
    "df_preview = pd.DataFrame(rows_as_strings, columns=[\"Diagnosis Codes\"])\n",
    "\n",
    "# Preview\n",
    "df_preview.head()"
   ]
  },
  {
   "cell_type": "code",
   "execution_count": 18,
   "id": "c6e66a88-222d-49b1-90bf-20f63b8e996b",
   "metadata": {},
   "outputs": [
    {
     "name": "stdout",
     "output_type": "stream",
     "text": [
      "Total records: 58302\n",
      "Max codes per record: 19\n",
      "Average codes per record: 5.11\n",
      "Min codes per record: 1\n"
     ]
    }
   ],
   "source": [
    "code_lengths = [len(r) for r in synthetic_records]\n",
    "print(\"Total records:\", len(synthetic_records))\n",
    "print(\"Max codes per record:\", max(code_lengths))\n",
    "print(\"Average codes per record:\", round(np.mean(code_lengths), 2))\n",
    "print(\"Min codes per record:\", min(code_lengths))"
   ]
  },
  {
   "cell_type": "code",
   "execution_count": 20,
   "id": "0affc317-fea1-4840-abfe-c1068469fe65",
   "metadata": {},
   "outputs": [],
   "source": [
    "# Save final dataset\n",
    "with open(\"../data/dataset_final.csv\", \"w\") as f:\n",
    "    for line in rows_as_strings:\n",
    "        f.write(line + \"\\n\")"
   ]
  },
  {
   "cell_type": "code",
   "execution_count": null,
   "id": "0a958779-2882-4904-ac90-b81a1f3b0d0d",
   "metadata": {},
   "outputs": [],
   "source": []
  }
 ],
 "metadata": {
  "kernelspec": {
   "display_name": "Python 3 (ipykernel)",
   "language": "python",
   "name": "python3"
  },
  "language_info": {
   "codemirror_mode": {
    "name": "ipython",
    "version": 3
   },
   "file_extension": ".py",
   "mimetype": "text/x-python",
   "name": "python",
   "nbconvert_exporter": "python",
   "pygments_lexer": "ipython3",
   "version": "3.10.13"
  }
 },
 "nbformat": 4,
 "nbformat_minor": 5
}
